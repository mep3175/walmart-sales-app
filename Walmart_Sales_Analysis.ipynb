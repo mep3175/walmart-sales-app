{
 "cells": [
  {
   "cell_type": "markdown",
   "metadata": {},
   "source": [
    "# 🧠 Walmart Sales Analysis"
   ]
  },
  {
   "cell_type": "code",
   "execution_count": null,
   "metadata": {},
   "outputs": [],
   "source": [
    "# 📌 1. Import required libraries\n",
    "import pandas as pd\n",
    "import numpy as np\n",
    "import matplotlib.pyplot as plt\n",
    "import seaborn as sns\n",
    "\n",
    "sns.set(style=\"whitegrid\")\n",
    "plt.rcParams['figure.figsize'] = (12, 6)"
   ]
  },
  {
   "cell_type": "code",
   "execution_count": null,
   "metadata": {},
   "outputs": [],
   "source": [
    "# 📌 2. Load dataset\n",
    "df = pd.read_csv(\"Walmart_Sales.csv\")\n",
    "df['Date'] = pd.to_datetime(df['Date'], format='%d-%m-%Y')"
   ]
  },
  {
   "cell_type": "code",
   "execution_count": null,
   "metadata": {},
   "outputs": [],
   "source": [
    "# 📌 3. Feature engineering\n",
    "df['Month'] = df['Date'].dt.month\n",
    "df['Year'] = df['Date'].dt.year"
   ]
  },
  {
   "cell_type": "code",
   "execution_count": null,
   "metadata": {},
   "outputs": [],
   "source": [
    "# 📊 4. Basic Exploratory Analysis\n",
    "total_sales_per_store = df.groupby('Store')['Weekly_Sales'].sum().sort_values(ascending=False)\n",
    "average_sales_per_store = df.groupby('Store')['Weekly_Sales'].mean().sort_values(ascending=False)\n",
    "\n",
    "print(\"Highest performing store:\", total_sales_per_store.idxmax())\n",
    "print(\"Lowest performing store:\", total_sales_per_store.idxmin())\n",
    "\n",
    "holiday_sales = df[df['Holiday_Flag'] == 1]['Weekly_Sales']\n",
    "non_holiday_sales = df[df['Holiday_Flag'] == 0]['Weekly_Sales']\n",
    "\n",
    "print(\"Average Holiday Sales:\", holiday_sales.mean())\n",
    "print(\"Average Non-Holiday Sales:\", non_holiday_sales.mean())"
   ]
  },
  {
   "cell_type": "code",
   "execution_count": null,
   "metadata": {},
   "outputs": [],
   "source": [
    "# 📈 5. Time Series Trends\n",
    "sales_over_time = df.groupby('Date')['Weekly_Sales'].sum()\n",
    "monthly_avg_sales = df.groupby(['Year', 'Month'])['Weekly_Sales'].mean().reset_index()\n",
    "monthly_avg_sales['Date'] = pd.to_datetime(monthly_avg_sales[['Year', 'Month']].assign(DAY=1))"
   ]
  },
  {
   "cell_type": "code",
   "execution_count": null,
   "metadata": {},
   "outputs": [],
   "source": [
    "# 📉 6. Correlation Analysis\n",
    "correlation_data = df[['Weekly_Sales', 'Temperature', 'Fuel_Price', 'CPI', 'Unemployment']]\n",
    "correlation_matrix = correlation_data.corr()\n",
    "print(\"\nCorrelation Matrix:\n\", correlation_matrix)"
   ]
  },
  {
   "cell_type": "code",
   "execution_count": null,
   "metadata": {},
   "outputs": [],
   "source": [
    "# 📊 7. Visualizations\n",
    "plt.figure()\n",
    "sales_over_time.plot(title='Total Weekly Sales Over Time')\n",
    "plt.xlabel('Date')\n",
    "plt.ylabel('Weekly Sales')\n",
    "plt.grid(True)\n",
    "plt.show()\n",
    "\n",
    "plt.figure()\n",
    "average_sales_per_store.plot(kind='bar', title='Average Weekly Sales per Store')\n",
    "plt.xlabel('Store')\n",
    "plt.ylabel('Average Weekly Sales')\n",
    "plt.show()\n",
    "\n",
    "plt.figure()\n",
    "sns.boxplot(x='Holiday_Flag', y='Weekly_Sales', data=df)\n",
    "plt.xticks([0, 1], ['Non-Holiday', 'Holiday'])\n",
    "plt.title('Sales Distribution: Holiday vs Non-Holiday Weeks')\n",
    "plt.xlabel('Week Type')\n",
    "plt.ylabel('Weekly Sales')\n",
    "plt.show()\n",
    "\n",
    "plt.figure()\n",
    "sns.heatmap(correlation_matrix, annot=True, cmap='coolwarm', fmt=\".2f\")\n",
    "plt.title('Correlation Between Variables')\n",
    "plt.show()"
   ]
  }
 ],
 "metadata": {
  "kernelspec": {
   "display_name": "Python 3",
   "language": "python",
   "name": "python3"
  },
  "language_info": {
   "name": "python",
   "version": "3.10"
  }
 },
 "nbformat": 4,
 "nbformat_minor": 2
}
